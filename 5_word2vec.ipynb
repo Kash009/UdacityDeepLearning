{
 "cells": [
  {
   "cell_type": "markdown",
   "metadata": {
    "colab_type": "text",
    "id": "D7tqLMoKF6uq"
   },
   "source": [
    "Deep Learning\n",
    "=============\n",
    "\n",
    "Assignment 5\n",
    "------------\n",
    "\n",
    "The goal of this assignment is to train a skip-gram model over [Text8](http://mattmahoney.net/dc/textdata) data."
   ]
  },
  {
   "cell_type": "code",
   "execution_count": 1,
   "metadata": {
    "cellView": "both",
    "colab": {
     "autoexec": {
      "startup": false,
      "wait_interval": 0
     }
    },
    "colab_type": "code",
    "collapsed": false,
    "id": "0K1ZyLn04QZf"
   },
   "outputs": [
    {
     "name": "stderr",
     "output_type": "stream",
     "text": [
      "/home/mulctv/anaconda2/lib/python2.7/site-packages/matplotlib/font_manager.py:273: UserWarning: Matplotlib is building the font cache using fc-list. This may take a moment.\n",
      "  warnings.warn('Matplotlib is building the font cache using fc-list. This may take a moment.')\n"
     ]
    }
   ],
   "source": [
    "# These are all the modules we'll be using later. Make sure you can import them\n",
    "# before proceeding further.\n",
    "from __future__ import print_function\n",
    "import collections\n",
    "import math\n",
    "import numpy as np\n",
    "import os\n",
    "import random\n",
    "import tensorflow as tf\n",
    "import zipfile\n",
    "from matplotlib import pylab\n",
    "from six.moves import range\n",
    "from six.moves.urllib.request import urlretrieve\n",
    "from sklearn.manifold import TSNE"
   ]
  },
  {
   "cell_type": "markdown",
   "metadata": {
    "colab_type": "text",
    "id": "aCjPJE944bkV"
   },
   "source": [
    "Download the data from the source website if necessary."
   ]
  },
  {
   "cell_type": "code",
   "execution_count": 2,
   "metadata": {
    "cellView": "both",
    "colab": {
     "autoexec": {
      "startup": false,
      "wait_interval": 0
     },
     "output_extras": [
      {
       "item_id": 1
      }
     ]
    },
    "colab_type": "code",
    "collapsed": false,
    "executionInfo": {
     "elapsed": 14640,
     "status": "ok",
     "timestamp": 1445964482948,
     "user": {
      "color": "#1FA15D",
      "displayName": "Vincent Vanhoucke",
      "isAnonymous": false,
      "isMe": true,
      "permissionId": "05076109866853157986",
      "photoUrl": "//lh6.googleusercontent.com/-cCJa7dTDcgQ/AAAAAAAAAAI/AAAAAAAACgw/r2EZ_8oYer4/s50-c-k-no/photo.jpg",
      "sessionId": "2f1ffade4c9f20de",
      "userId": "102167687554210253930"
     },
     "user_tz": 420
    },
    "id": "RJ-o3UBUFtCw",
    "outputId": "c4ec222c-80b5-4298-e635-93ca9f79c3b7"
   },
   "outputs": [
    {
     "name": "stdout",
     "output_type": "stream",
     "text": [
      "Found and verified text8.zip\n"
     ]
    }
   ],
   "source": [
    "url = 'http://mattmahoney.net/dc/'\n",
    "\n",
    "def maybe_download(filename, expected_bytes):\n",
    "  \"\"\"Download a file if not present, and make sure it's the right size.\"\"\"\n",
    "  if not os.path.exists(filename):\n",
    "    filename, _ = urlretrieve(url + filename, filename)\n",
    "  statinfo = os.stat(filename)\n",
    "  if statinfo.st_size == expected_bytes:\n",
    "    print('Found and verified %s' % filename)\n",
    "  else:\n",
    "    print(statinfo.st_size)\n",
    "    raise Exception(\n",
    "      'Failed to verify ' + filename + '. Can you get to it with a browser?')\n",
    "  return filename\n",
    "\n",
    "filename = maybe_download('text8.zip', 31344016)"
   ]
  },
  {
   "cell_type": "markdown",
   "metadata": {
    "colab_type": "text",
    "id": "Zqz3XiqI4mZT"
   },
   "source": [
    "Read the data into a string."
   ]
  },
  {
   "cell_type": "code",
   "execution_count": 3,
   "metadata": {
    "cellView": "both",
    "colab": {
     "autoexec": {
      "startup": false,
      "wait_interval": 0
     },
     "output_extras": [
      {
       "item_id": 1
      }
     ]
    },
    "colab_type": "code",
    "collapsed": false,
    "executionInfo": {
     "elapsed": 28844,
     "status": "ok",
     "timestamp": 1445964497165,
     "user": {
      "color": "#1FA15D",
      "displayName": "Vincent Vanhoucke",
      "isAnonymous": false,
      "isMe": true,
      "permissionId": "05076109866853157986",
      "photoUrl": "//lh6.googleusercontent.com/-cCJa7dTDcgQ/AAAAAAAAAAI/AAAAAAAACgw/r2EZ_8oYer4/s50-c-k-no/photo.jpg",
      "sessionId": "2f1ffade4c9f20de",
      "userId": "102167687554210253930"
     },
     "user_tz": 420
    },
    "id": "Mvf09fjugFU_",
    "outputId": "e3a928b4-1645-4fe8-be17-fcf47de5716d"
   },
   "outputs": [
    {
     "name": "stdout",
     "output_type": "stream",
     "text": [
      "Data size 17005207\n"
     ]
    }
   ],
   "source": [
    "def read_data(filename):\n",
    "  f = zipfile.ZipFile(filename)\n",
    "  for name in f.namelist():\n",
    "    return tf.compat.as_str(f.read(name)).split()\n",
    "  f.close()\n",
    "  \n",
    "words = read_data(filename)\n",
    "print('Data size %d' % len(words))"
   ]
  },
  {
   "cell_type": "markdown",
   "metadata": {
    "colab_type": "text",
    "id": "Zdw6i4F8glpp"
   },
   "source": [
    "Build the dictionary and replace rare words with UNK token."
   ]
  },
  {
   "cell_type": "code",
   "execution_count": 4,
   "metadata": {
    "cellView": "both",
    "colab": {
     "autoexec": {
      "startup": false,
      "wait_interval": 0
     },
     "output_extras": [
      {
       "item_id": 1
      }
     ]
    },
    "colab_type": "code",
    "collapsed": false,
    "executionInfo": {
     "elapsed": 28849,
     "status": "ok",
     "timestamp": 1445964497178,
     "user": {
      "color": "#1FA15D",
      "displayName": "Vincent Vanhoucke",
      "isAnonymous": false,
      "isMe": true,
      "permissionId": "05076109866853157986",
      "photoUrl": "//lh6.googleusercontent.com/-cCJa7dTDcgQ/AAAAAAAAAAI/AAAAAAAACgw/r2EZ_8oYer4/s50-c-k-no/photo.jpg",
      "sessionId": "2f1ffade4c9f20de",
      "userId": "102167687554210253930"
     },
     "user_tz": 420
    },
    "id": "gAL1EECXeZsD",
    "outputId": "3fb4ecd1-df67-44b6-a2dc-2291730970b2"
   },
   "outputs": [
    {
     "name": "stdout",
     "output_type": "stream",
     "text": [
      "Most common words (+UNK) [['UNK', 418391], ('the', 1061396), ('of', 593677), ('and', 416629), ('one', 411764)]\n",
      "Sample data [5239, 3084, 12, 6, 195, 2, 3137, 46, 59, 156]\n"
     ]
    }
   ],
   "source": [
    "vocabulary_size = 50000\n",
    "\n",
    "def build_dataset(words):\n",
    "  count = [['UNK', -1]]\n",
    "  count.extend(collections.Counter(words).most_common(vocabulary_size - 1))\n",
    "  dictionary = dict()\n",
    "  for word, _ in count:\n",
    "    dictionary[word] = len(dictionary)\n",
    "  data = list()\n",
    "  unk_count = 0\n",
    "  for word in words:\n",
    "    if word in dictionary:\n",
    "      index = dictionary[word]\n",
    "    else:\n",
    "      index = 0  # dictionary['UNK']\n",
    "      unk_count = unk_count + 1\n",
    "    data.append(index)\n",
    "  count[0][1] = unk_count\n",
    "  reverse_dictionary = dict(zip(dictionary.values(), dictionary.keys())) \n",
    "  return data, count, dictionary, reverse_dictionary\n",
    "\n",
    "data, count, dictionary, reverse_dictionary = build_dataset(words)\n",
    "print('Most common words (+UNK)', count[:5])\n",
    "print('Sample data', data[:10])\n",
    "del words  # Hint to reduce memory."
   ]
  },
  {
   "cell_type": "markdown",
   "metadata": {
    "colab_type": "text",
    "id": "lFwoyygOmWsL"
   },
   "source": [
    "Function to generate a training batch for the skip-gram model."
   ]
  },
  {
   "cell_type": "code",
   "execution_count": 5,
   "metadata": {
    "cellView": "both",
    "colab": {
     "autoexec": {
      "startup": false,
      "wait_interval": 0
     },
     "output_extras": [
      {
       "item_id": 1
      }
     ]
    },
    "colab_type": "code",
    "collapsed": false,
    "executionInfo": {
     "elapsed": 113,
     "status": "ok",
     "timestamp": 1445964901989,
     "user": {
      "color": "#1FA15D",
      "displayName": "Vincent Vanhoucke",
      "isAnonymous": false,
      "isMe": true,
      "permissionId": "05076109866853157986",
      "photoUrl": "//lh6.googleusercontent.com/-cCJa7dTDcgQ/AAAAAAAAAAI/AAAAAAAACgw/r2EZ_8oYer4/s50-c-k-no/photo.jpg",
      "sessionId": "2f1ffade4c9f20de",
      "userId": "102167687554210253930"
     },
     "user_tz": 420
    },
    "id": "w9APjA-zmfjV",
    "outputId": "67cccb02-cdaf-4e47-d489-43bcc8d57bb8"
   },
   "outputs": [
    {
     "name": "stdout",
     "output_type": "stream",
     "text": [
      "data: ['anarchism', 'originated', 'as', 'a', 'term', 'of', 'abuse', 'first']\n",
      "\n",
      "with num_skips = 2 and skip_window = 1:\n",
      "    batch: ['originated', 'originated', 'as', 'as', 'a', 'a', 'term', 'term']\n",
      "    labels: ['anarchism', 'as', 'a', 'originated', 'as', 'term', 'a', 'of']\n",
      "\n",
      "with num_skips = 4 and skip_window = 2:\n",
      "    batch: ['as', 'as', 'as', 'as', 'a', 'a', 'a', 'a']\n",
      "    labels: ['term', 'a', 'anarchism', 'originated', 'term', 'originated', 'of', 'as']\n"
     ]
    }
   ],
   "source": [
    "data_index = 0\n",
    "\n",
    "def generate_batch(batch_size, num_skips, skip_window):\n",
    "  global data_index\n",
    "  assert batch_size % num_skips == 0\n",
    "  assert num_skips <= 2 * skip_window\n",
    "  batch = np.ndarray(shape=(batch_size), dtype=np.int32)\n",
    "  labels = np.ndarray(shape=(batch_size, 1), dtype=np.int32)\n",
    "  span = 2 * skip_window + 1 # [ skip_window target skip_window ]\n",
    "  buffer = collections.deque(maxlen=span)\n",
    "  for _ in range(span):\n",
    "    buffer.append(data[data_index])\n",
    "    data_index = (data_index + 1) % len(data)\n",
    "  for i in range(batch_size // num_skips):\n",
    "    target = skip_window  # target label at the center of the buffer\n",
    "    targets_to_avoid = [ skip_window ]\n",
    "    for j in range(num_skips):\n",
    "      while target in targets_to_avoid:\n",
    "        target = random.randint(0, span - 1)\n",
    "      targets_to_avoid.append(target)\n",
    "      batch[i * num_skips + j] = buffer[skip_window]\n",
    "      labels[i * num_skips + j, 0] = buffer[target]\n",
    "    buffer.append(data[data_index])\n",
    "    data_index = (data_index + 1) % len(data)\n",
    "  return batch, labels\n",
    "\n",
    "print('data:', [reverse_dictionary[di] for di in data[:8]])\n",
    "\n",
    "for num_skips, skip_window in [(2, 1), (4, 2)]:\n",
    "    data_index = 0\n",
    "    batch, labels = generate_batch(batch_size=8, num_skips=num_skips, skip_window=skip_window)\n",
    "    print('\\nwith num_skips = %d and skip_window = %d:' % (num_skips, skip_window))\n",
    "    print('    batch:', [reverse_dictionary[bi] for bi in batch])\n",
    "    print('    labels:', [reverse_dictionary[li] for li in labels.reshape(8)])"
   ]
  },
  {
   "cell_type": "markdown",
   "metadata": {
    "colab_type": "text",
    "id": "Ofd1MbBuwiva"
   },
   "source": [
    "Train a skip-gram model."
   ]
  },
  {
   "cell_type": "code",
   "execution_count": 6,
   "metadata": {
    "cellView": "both",
    "colab": {
     "autoexec": {
      "startup": false,
      "wait_interval": 0
     }
    },
    "colab_type": "code",
    "collapsed": true,
    "id": "8pQKsV4Vwlzy"
   },
   "outputs": [],
   "source": [
    "batch_size = 128\n",
    "embedding_size = 128 # Dimension of the embedding vector.\n",
    "skip_window = 1 # How many words to consider left and right.\n",
    "num_skips = 2 # How many times to reuse an input to generate a label.\n",
    "# We pick a random validation set to sample nearest neighbors. here we limit the\n",
    "# validation samples to the words that have a low numeric ID, which by\n",
    "# construction are also the most frequent. \n",
    "valid_size = 16 # Random set of words to evaluate similarity on.\n",
    "valid_window = 100 # Only pick dev samples in the head of the distribution.\n",
    "valid_examples = np.array(random.sample(range(valid_window), valid_size))\n",
    "num_sampled = 64 # Number of negative examples to sample.\n",
    "\n",
    "graph = tf.Graph()\n",
    "\n",
    "with graph.as_default():\n",
    "\n",
    "  # Input data.\n",
    "  train_dataset = tf.placeholder(tf.int32, shape=[batch_size])\n",
    "  train_labels = tf.placeholder(tf.int32, shape=[batch_size, 1])\n",
    "  valid_dataset = tf.constant(valid_examples, dtype=tf.int32)\n",
    "  \n",
    "  # Variables.\n",
    "  embeddings = tf.Variable(\n",
    "    tf.random_uniform([vocabulary_size, embedding_size], -1.0, 1.0))\n",
    "  softmax_weights = tf.Variable(\n",
    "    tf.truncated_normal([vocabulary_size, embedding_size],\n",
    "                         stddev=1.0 / math.sqrt(embedding_size)))\n",
    "  softmax_biases = tf.Variable(tf.zeros([vocabulary_size]))\n",
    "  \n",
    "  # Model.\n",
    "  # Look up embeddings for inputs.\n",
    "  embed = tf.nn.embedding_lookup(embeddings, train_dataset)\n",
    "  # Compute the softmax loss, using a sample of the negative labels each time.\n",
    "  loss = tf.reduce_mean(\n",
    "    tf.nn.sampled_softmax_loss(softmax_weights, softmax_biases, embed,\n",
    "                               train_labels, num_sampled, vocabulary_size))\n",
    "\n",
    "  # Optimizer.\n",
    "  optimizer = tf.train.AdagradOptimizer(1.0).minimize(loss)\n",
    "  \n",
    "  # Compute the similarity between minibatch examples and all embeddings.\n",
    "  # We use the cosine distance:\n",
    "  norm = tf.sqrt(tf.reduce_sum(tf.square(embeddings), 1, keep_dims=True))\n",
    "  normalized_embeddings = embeddings / norm\n",
    "  valid_embeddings = tf.nn.embedding_lookup(\n",
    "    normalized_embeddings, valid_dataset)\n",
    "  similarity = tf.matmul(valid_embeddings, tf.transpose(normalized_embeddings))"
   ]
  },
  {
   "cell_type": "code",
   "execution_count": 7,
   "metadata": {
    "cellView": "both",
    "colab": {
     "autoexec": {
      "startup": false,
      "wait_interval": 0
     },
     "output_extras": [
      {
       "item_id": 23
      },
      {
       "item_id": 48
      },
      {
       "item_id": 61
      }
     ]
    },
    "colab_type": "code",
    "collapsed": false,
    "executionInfo": {
     "elapsed": 436189,
     "status": "ok",
     "timestamp": 1445965429787,
     "user": {
      "color": "#1FA15D",
      "displayName": "Vincent Vanhoucke",
      "isAnonymous": false,
      "isMe": true,
      "permissionId": "05076109866853157986",
      "photoUrl": "//lh6.googleusercontent.com/-cCJa7dTDcgQ/AAAAAAAAAAI/AAAAAAAACgw/r2EZ_8oYer4/s50-c-k-no/photo.jpg",
      "sessionId": "2f1ffade4c9f20de",
      "userId": "102167687554210253930"
     },
     "user_tz": 420
    },
    "id": "1bQFGceBxrWW",
    "outputId": "5ebd6d9a-33c6-4bcd-bf6d-252b0b6055e4"
   },
   "outputs": [
    {
     "name": "stdout",
     "output_type": "stream",
     "text": [
      "Initialized\n",
      "Average loss at step 0: 8.037197\n",
      "Nearest to has: automorphisms, putney, maggiore, randall, turing, rhetoric, obsessive, climatic,\n",
      "Nearest to time: licinius, herodotus, mossi, defeats, enslaved, debian, infiltrate, megaliths,\n",
      "Nearest to american: messaging, bibliography, mina, conversations, ius, chicagoans, stern, commentator,\n",
      "Nearest to or: helsinki, skipping, ads, bolivar, perceptive, satirised, zonker, transmissions,\n",
      "Nearest to nine: thou, aegisthus, mauna, inelastic, baldwin, bro, yeasts, grounds,\n",
      "Nearest to such: bastions, cyclopaedia, usurpation, maori, predicted, mediawiki, bmw, defoe,\n",
      "Nearest to first: honeybee, candy, senatus, sedgwick, bite, ashland, frivolous, noses,\n",
      "Nearest to these: spheres, polluted, patron, minibuses, shrubs, anchor, scratch, skydiving,\n",
      "Nearest to while: pontus, hoplites, quite, tempore, rooks, pearls, western, tenochtitlan,\n",
      "Nearest to so: celebrity, folktales, galleria, frederik, megabit, emc, shawnee, midtown,\n",
      "Nearest to be: stryker, solvents, midyear, during, motilal, informers, lymph, therapy,\n",
      "Nearest to UNK: chivalry, merian, trainer, infractions, wail, smp, coitus, hussite,\n",
      "Nearest to with: jacky, biochemical, surplus, elmo, toga, crossovers, neural, tunable,\n",
      "Nearest to often: cheech, treat, stubbs, parasite, backlight, responded, fifties, ala,\n",
      "Nearest to been: footprints, journeys, void, reichstag, minimum, shrink, mining, enthusiasm,\n",
      "Nearest to d: adolf, heiden, acosta, workforce, asahi, does, clark, replayed,\n",
      "Average loss at step 2000: 4.358058\n",
      "Average loss at step 4000: 3.860045\n",
      "Average loss at step 6000: 3.786138\n",
      "Average loss at step 8000: 3.683592\n",
      "Average loss at step 10000: 3.612201\n",
      "Nearest to has: was, is, had, have, whyte, heavy, cline, loomis,\n",
      "Nearest to time: debian, licinius, bully, rebadged, influenced, theories, standard, fostered,\n",
      "Nearest to american: bibliography, british, cheung, and, stern, plunges, sx, hermes,\n",
      "Nearest to or: and, bile, fictional, witte, batches, dinah, precedence, yan,\n",
      "Nearest to nine: eight, six, seven, five, zero, three, four, two,\n",
      "Nearest to such: ussachevsky, maori, known, eda, usurpation, defoe, foetus, digimon,\n",
      "Nearest to first: honeybee, downloadable, during, united, pleaded, eda, subjection, senatus,\n",
      "Nearest to these: some, tetrarchy, aaron, polluted, side, are, chicago, spheres,\n",
      "Nearest to while: rhythmically, violently, absolute, western, rooks, quite, contravariant, signaling,\n",
      "Nearest to so: celebrity, galleria, frederik, times, boosting, clever, more, acquisitions,\n",
      "Nearest to be: have, bachchan, was, become, been, is, by, re,\n",
      "Nearest to UNK: santer, ions, valdemar, accentuated, iliad, foreshadowing, turbine, seven,\n",
      "Nearest to with: between, preliminary, from, elmo, hostage, in, after, cytoskeleton,\n",
      "Nearest to often: usually, not, cheech, fiddle, weddings, treat, wording, commonly,\n",
      "Nearest to been: footprints, was, by, be, had, bcp, were, void,\n",
      "Nearest to d: dagon, clark, workforce, heiden, adolf, does, points, acosta,\n",
      "Average loss at step 12000: 3.604245\n",
      "Average loss at step 14000: 3.569314\n",
      "Average loss at step 16000: 3.405578\n",
      "Average loss at step 18000: 3.455494\n",
      "Average loss at step 20000: 3.542531\n",
      "Nearest to has: had, have, was, is, enigmas, became, whyte, absurdities,\n",
      "Nearest to time: fostered, rebadged, debian, theories, litani, intercepts, divorce, ghost,\n",
      "Nearest to american: british, german, french, kern, ionization, pacifica, english, gotovina,\n",
      "Nearest to or: and, than, bile, biologists, for, marred, jamiroquai, gloster,\n",
      "Nearest to nine: eight, six, seven, five, four, three, zero, two,\n",
      "Nearest to such: these, well, known, rudy, many, eda, maori, ussachevsky,\n",
      "Nearest to first: honeybee, subjection, downloadable, next, second, delineated, candy, chung,\n",
      "Nearest to these: some, many, such, all, which, arius, pohl, other,\n",
      "Nearest to while: when, and, rhythmically, for, from, violently, though, where,\n",
      "Nearest to so: celebrity, clever, boosting, frederik, criticised, mongol, unveiled, galleria,\n",
      "Nearest to be: have, take, been, is, become, are, were, was,\n",
      "Nearest to UNK: unrealistic, bahri, provers, apis, redshifted, ferrol, missing, perl,\n",
      "Nearest to with: between, elmo, in, into, after, by, biochemical, through,\n",
      "Nearest to often: usually, also, commonly, sometimes, not, weddings, wording, devotees,\n",
      "Nearest to been: footprints, be, was, were, become, had, recently, reichstag,\n",
      "Nearest to d: b, kaj, dagon, clark, acidosis, brim, tool, amx,\n",
      "Average loss at step 22000: 3.503994\n",
      "Average loss at step 24000: 3.489760\n",
      "Average loss at step 26000: 3.478854\n",
      "Average loss at step 28000: 3.478934\n",
      "Average loss at step 30000: 3.503992\n",
      "Nearest to has: had, have, is, was, enigmas, bal, became, wishes,\n",
      "Nearest to time: theories, fostered, rebadged, debian, himalayan, prophylactic, control, intercepts,\n",
      "Nearest to american: british, english, german, russian, nobel, italian, colloquial, mariani,\n",
      "Nearest to or: and, ecologist, but, bile, vilnius, than, gunships, deciduous,\n",
      "Nearest to nine: eight, seven, six, five, four, three, zero, one,\n",
      "Nearest to such: well, these, known, rudy, eda, many, maori, ussachevsky,\n",
      "Nearest to first: second, honeybee, next, liouville, subjection, condorcet, third, past,\n",
      "Nearest to these: some, many, such, they, their, all, are, reconfigurable,\n",
      "Nearest to while: when, though, but, rhythmically, shunting, tektites, dorothea, where,\n",
      "Nearest to so: criticised, more, stain, downwind, frederik, boosting, thus, shawnee,\n",
      "Nearest to be: is, been, have, take, are, become, were, bruxelles,\n",
      "Nearest to UNK: specifically, rang, materialize, david, longhair, ludwig, vogt, alexander,\n",
      "Nearest to with: between, pontiff, when, after, from, shri, by, through,\n",
      "Nearest to often: usually, sometimes, commonly, also, typically, frequently, not, they,\n",
      "Nearest to been: be, become, were, footprints, was, recently, had, bcp,\n",
      "Nearest to d: b, kaj, acosta, dagon, tool, clark, chording, reproductive,\n",
      "Average loss at step 32000: 3.497270\n",
      "Average loss at step 34000: 3.495689\n",
      "Average loss at step 36000: 3.447890\n",
      "Average loss at step 38000: 3.299206\n",
      "Average loss at step 40000: 3.427674\n",
      "Nearest to has: had, have, was, is, became, bal, wishes, aitken,\n",
      "Nearest to time: year, rebadged, way, control, intercepts, marvel, lyme, days,\n",
      "Nearest to american: british, german, english, nobel, australian, russian, liang, mariani,\n",
      "Nearest to or: and, than, a, satirists, servo, reykjav, caches, hertfordshire,\n",
      "Nearest to nine: eight, seven, six, five, four, three, zero, one,\n",
      "Nearest to such: well, these, known, many, rudy, vacuum, certain, maori,\n",
      "Nearest to first: second, next, honeybee, prevenient, third, final, downloadable, mcpherson,\n",
      "Nearest to these: many, some, several, such, are, all, both, they,\n",
      "Nearest to while: when, but, though, although, rhythmically, however, where, are,\n",
      "Nearest to so: criticised, more, not, stain, frederik, boosting, times, thus,\n",
      "Nearest to be: been, have, is, are, was, were, take, become,\n",
      "Nearest to UNK: b, cytosine, clinging, d, mantua, adversity, gordian, born,\n",
      "Nearest to with: between, when, by, biochemical, in, on, cytoskeleton, hostage,\n",
      "Nearest to often: usually, sometimes, commonly, typically, also, frequently, not, generally,\n",
      "Nearest to been: become, be, footprints, were, was, alderney, already, had,\n",
      "Nearest to d: b, h, acosta, rence, congreso, k, torsion, reproductive,\n",
      "Average loss at step 42000: 3.439384\n",
      "Average loss at step 44000: 3.455133\n",
      "Average loss at step 46000: 3.447342\n",
      "Average loss at step 48000: 3.355680\n",
      "Average loss at step 50000: 3.380387\n",
      "Nearest to has: had, have, was, is, having, bal, singleton, ladefoged,\n",
      "Nearest to time: way, year, control, rebadged, bettors, saxons, pentatonic, days,\n",
      "Nearest to american: british, australian, english, russian, nobel, german, mariani, italian,\n",
      "Nearest to or: and, than, elision, gunships, tica, flop, dinah, indices,\n",
      "Nearest to nine: eight, seven, six, four, five, three, zero, one,\n",
      "Nearest to such: these, well, many, known, rudy, including, maori, certain,\n",
      "Nearest to first: second, next, last, final, liouville, third, fourth, same,\n",
      "Nearest to these: many, some, such, several, both, they, all, those,\n",
      "Nearest to while: when, but, however, though, although, after, where, and,\n",
      "Nearest to so: thus, criticised, seminole, when, if, then, maize, domino,\n",
      "Nearest to be: have, been, was, being, become, is, were, are,\n",
      "Nearest to UNK: l, hist, sally, enchanted, djvu, debrecen, conciliator, kinsella,\n",
      "Nearest to with: between, hostage, nazareth, woodward, shri, niue, multidisciplinary, pontiff,\n",
      "Nearest to often: usually, sometimes, commonly, typically, generally, frequently, now, still,\n",
      "Nearest to been: become, be, footprints, were, was, alderney, had, already,\n",
      "Nearest to d: b, e, k, acosta, congreso, h, psychosocial, uso,\n",
      "Average loss at step 52000: 3.436149\n",
      "Average loss at step 54000: 3.425317\n",
      "Average loss at step 56000: 3.438153\n",
      "Average loss at step 58000: 3.395502\n",
      "Average loss at step 60000: 3.395645\n",
      "Nearest to has: had, have, was, is, although, having, dolphin, suddenly,\n",
      "Nearest to time: control, year, way, pentatonic, jenner, prophylactic, place, exhaustion,\n",
      "Nearest to american: british, russian, australian, english, liang, german, european, italian,\n",
      "Nearest to or: and, than, demeanor, demoness, include, gunships, elision, fleshed,\n",
      "Nearest to nine: eight, six, seven, four, five, three, zero, one,\n",
      "Nearest to such: these, well, many, including, known, certain, rudy, some,\n",
      "Nearest to first: last, second, next, same, final, only, downloadable, original,\n",
      "Nearest to these: many, some, such, several, both, those, they, all,\n",
      "Nearest to while: when, although, though, but, however, after, before, where,\n",
      "Nearest to so: then, if, seminole, criticised, thus, stain, clever, when,\n",
      "Nearest to be: been, pass, is, become, bruxelles, have, battuta, produce,\n",
      "Nearest to UNK: lotharingia, ferrol, trainer, debrecen, shipyard, mmm, burundi, webelements,\n",
      "Nearest to with: between, redemption, elision, when, including, by, through, in,\n",
      "Nearest to often: sometimes, usually, commonly, typically, frequently, now, generally, still,\n",
      "Nearest to been: become, be, footprints, were, had, alderney, was, already,\n",
      "Nearest to d: b, h, x, e, ch, acosta, r, brim,\n",
      "Average loss at step 62000: 3.239498\n",
      "Average loss at step 64000: 3.256446\n",
      "Average loss at step 66000: 3.406895\n",
      "Average loss at step 68000: 3.393768\n",
      "Average loss at step 70000: 3.363369\n",
      "Nearest to has: had, have, was, is, waning, tana, although, bal,\n",
      "Nearest to time: year, season, way, prophylactic, place, pentatonic, control, jenner,\n",
      "Nearest to american: british, australian, english, confirming, couture, villagers, italian, liang,\n",
      "Nearest to or: and, than, lough, the, while, dme, fleshed, supine,\n",
      "Nearest to nine: eight, seven, six, five, four, three, zero, one,\n",
      "Nearest to such: these, well, known, many, including, certain, some, other,\n",
      "Nearest to first: second, last, next, same, final, original, third, downloadable,\n",
      "Nearest to these: such, some, many, several, those, all, are, various,\n",
      "Nearest to while: although, though, when, however, but, after, before, where,\n",
      "Nearest to so: thus, if, huygens, seminole, then, later, undefended, shawnee,\n",
      "Nearest to be: been, become, is, were, have, being, are, by,\n",
      "Nearest to UNK: faulty, z, specifically, hypothermia, nay, shipyard, nontrinitarian, malwa,\n",
      "Nearest to with: between, elision, shari, into, by, hack, including, familiarity,\n",
      "Nearest to often: usually, sometimes, frequently, commonly, typically, generally, now, still,\n",
      "Nearest to been: become, be, footprints, were, already, recently, was, had,\n",
      "Nearest to d: b, h, brim, acosta, ch, acidosis, dil, r,\n",
      "Average loss at step 72000: 3.367297\n",
      "Average loss at step 74000: 3.348331\n",
      "Average loss at step 76000: 3.306506\n",
      "Average loss at step 78000: 3.352995\n",
      "Average loss at step 80000: 3.379422\n",
      "Nearest to has: had, have, is, was, having, although, since, suddenly,\n",
      "Nearest to time: year, season, days, way, years, jenner, shielded, idealised,\n",
      "Nearest to american: british, australian, german, canadian, international, italian, scottish, russian,\n",
      "Nearest to or: and, while, than, demeanor, bloc, checkpoint, hpv, fugitives,\n",
      "Nearest to nine: eight, seven, six, five, four, three, zero, one,\n",
      "Nearest to such: these, well, known, certain, including, many, rudy, ebooks,\n",
      "Nearest to first: second, last, next, third, final, fourth, same, downloadable,\n",
      "Nearest to these: several, many, some, such, those, both, various, all,\n",
      "Nearest to while: although, though, when, after, however, but, before, despite,\n",
      "Nearest to so: then, undefended, thus, seminole, later, stain, huygens, if,\n",
      "Nearest to be: been, have, become, being, are, bruxelles, were, is,\n",
      "Nearest to UNK: dr, charlton, lotharingia, alexander, david, paulist, stewart, acadia,\n",
      "Nearest to with: between, rydberg, woodward, biochemical, elision, reactant, redemption, gora,\n",
      "Nearest to often: sometimes, usually, typically, commonly, frequently, generally, still, now,\n",
      "Nearest to been: become, be, was, footprints, recently, were, had, already,\n",
      "Nearest to d: b, h, brim, ch, psychosocial, j, acosta, k,\n",
      "Average loss at step 82000: 3.409734\n",
      "Average loss at step 84000: 3.411347\n",
      "Average loss at step 86000: 3.387298\n",
      "Average loss at step 88000: 3.351934\n",
      "Average loss at step 90000: 3.362887\n",
      "Nearest to has: had, have, is, was, having, achieves, egyptology, ladefoged,\n",
      "Nearest to time: year, idealised, jenner, way, season, montevideo, days, exhaustion,\n",
      "Nearest to american: british, canadian, australian, italian, french, scottish, german, english,\n",
      "Nearest to or: and, while, mortgages, cabinda, than, gunships, dinah, though,\n",
      "Nearest to nine: eight, seven, six, five, four, zero, three, one,\n",
      "Nearest to such: well, these, known, certain, rudy, many, including, deptford,\n",
      "Nearest to first: last, second, next, final, third, earliest, originally, original,\n",
      "Nearest to these: several, many, some, various, such, those, both, are,\n",
      "Nearest to while: although, when, though, after, before, during, were, however,\n",
      "Nearest to so: thus, seminole, then, if, too, later, correspondingly, stain,\n",
      "Nearest to be: been, become, have, was, produce, being, is, refer,\n",
      "Nearest to UNK: kritik, drums, webelements, centrum, safed, acadia, hatton, johansen,\n",
      "Nearest to with: between, by, elision, rydberg, in, woodward, biochemical, hack,\n",
      "Nearest to often: sometimes, usually, commonly, frequently, generally, typically, still, now,\n",
      "Nearest to been: become, be, footprints, already, previously, recently, was, alderney,\n",
      "Nearest to d: b, brim, pedophilia, ch, acosta, h, hokku, congreso,\n",
      "Average loss at step 92000: 3.393429\n",
      "Average loss at step 94000: 3.251816\n",
      "Average loss at step 96000: 3.355599\n",
      "Average loss at step 98000: 3.240949\n",
      "Average loss at step 100000: 3.355091\n",
      "Nearest to has: had, have, is, was, having, championing, achieves, since,\n",
      "Nearest to time: year, way, plaques, exhaustion, montevideo, idealised, days, season,\n",
      "Nearest to american: british, canadian, australian, german, italian, scottish, liang, russian,\n",
      "Nearest to or: and, than, elision, outlandish, demoness, rosalind, metabolized, suk,\n",
      "Nearest to nine: eight, seven, six, four, five, three, zero, one,\n",
      "Nearest to such: known, well, these, certain, including, rudy, many, defined,\n",
      "Nearest to first: last, second, next, final, third, fourth, downloadable, seventh,\n",
      "Nearest to these: several, many, some, various, those, all, both, certain,\n",
      "Nearest to while: although, when, though, however, and, after, before, but,\n",
      "Nearest to so: thus, then, later, if, too, imperator, stain, more,\n",
      "Nearest to be: been, become, are, is, have, being, get, battuta,\n",
      "Nearest to UNK: auctions, prenatal, cooking, fretting, flattered, carly, der, enveloping,\n",
      "Nearest to with: between, using, including, during, by, when, throughout, possum,\n",
      "Nearest to often: sometimes, usually, commonly, typically, generally, frequently, still, now,\n",
      "Nearest to been: become, be, recently, footprints, already, was, grown, alderney,\n",
      "Nearest to d: b, psychosocial, kaj, uruguay, virulent, h, acidosis, acosta,\n"
     ]
    }
   ],
   "source": [
    "num_steps = 100001\n",
    "\n",
    "with tf.Session(graph=graph) as session:\n",
    "  tf.initialize_all_variables().run()\n",
    "  print('Initialized')\n",
    "  average_loss = 0\n",
    "  for step in range(num_steps):\n",
    "    batch_data, batch_labels = generate_batch(\n",
    "      batch_size, num_skips, skip_window)\n",
    "    feed_dict = {train_dataset : batch_data, train_labels : batch_labels}\n",
    "    _, l = session.run([optimizer, loss], feed_dict=feed_dict)\n",
    "    average_loss += l\n",
    "    if step % 2000 == 0:\n",
    "      if step > 0:\n",
    "        average_loss = average_loss / 2000\n",
    "      # The average loss is an estimate of the loss over the last 2000 batches.\n",
    "      print('Average loss at step %d: %f' % (step, average_loss))\n",
    "      average_loss = 0\n",
    "    # note that this is expensive (~20% slowdown if computed every 500 steps)\n",
    "    if step % 10000 == 0:\n",
    "      sim = similarity.eval()\n",
    "      for i in xrange(valid_size):\n",
    "        valid_word = reverse_dictionary[valid_examples[i]]\n",
    "        top_k = 8 # number of nearest neighbors\n",
    "        nearest = (-sim[i, :]).argsort()[1:top_k+1]\n",
    "        log = 'Nearest to %s:' % valid_word\n",
    "        for k in xrange(top_k):\n",
    "          close_word = reverse_dictionary[nearest[k]]\n",
    "          log = '%s %s,' % (log, close_word)\n",
    "        print(log)\n",
    "  final_embeddings = normalized_embeddings.eval()"
   ]
  },
  {
   "cell_type": "code",
   "execution_count": 12,
   "metadata": {
    "cellView": "both",
    "colab": {
     "autoexec": {
      "startup": false,
      "wait_interval": 0
     }
    },
    "colab_type": "code",
    "collapsed": true,
    "id": "jjJXYA_XzV79"
   },
   "outputs": [],
   "source": [
    "num_points = 1000\n",
    "\n",
    "tsne = TSNE(perplexity=30, n_components=2, init='pca', n_iter=5000)\n",
    "two_d_embeddings = tsne.fit_transform(final_embeddings[1:num_points+1, :])"
   ]
  },
  {
   "cell_type": "code",
   "execution_count": 13,
   "metadata": {
    "cellView": "both",
    "colab": {
     "autoexec": {
      "startup": false,
      "wait_interval": 0
     },
     "output_extras": [
      {
       "item_id": 1
      }
     ]
    },
    "colab_type": "code",
    "collapsed": false,
    "executionInfo": {
     "elapsed": 4763,
     "status": "ok",
     "timestamp": 1445965465525,
     "user": {
      "color": "#1FA15D",
      "displayName": "Vincent Vanhoucke",
      "isAnonymous": false,
      "isMe": true,
      "permissionId": "05076109866853157986",
      "photoUrl": "//lh6.googleusercontent.com/-cCJa7dTDcgQ/AAAAAAAAAAI/AAAAAAAACgw/r2EZ_8oYer4/s50-c-k-no/photo.jpg",
      "sessionId": "2f1ffade4c9f20de",
      "userId": "102167687554210253930"
     },
     "user_tz": 420
    },
    "id": "o_e0D_UezcDe",
    "outputId": "df22e4a5-e8ec-4e5e-d384-c6cf37c68c34"
   },
   "outputs": [],
   "source": [
    "def plot(embeddings, labels):\n",
    "  assert embeddings.shape[0] >= len(labels), 'More labels than embeddings'\n",
    "  pylab.figure(figsize=(15,15))  # in inches\n",
    "  for i, label in enumerate(labels):\n",
    "    x, y = embeddings[i,:]\n",
    "    pylab.scatter(x, y)\n",
    "    pylab.annotate(label, xy=(x, y), xytext=(5, 2), textcoords='offset points',\n",
    "                   ha='right', va='bottom')\n",
    "  pylab.show()\n",
    "\n",
    "words = [reverse_dictionary[i] for i in range(1, num_points+1)]\n",
    "plot(two_d_embeddings, words)"
   ]
  },
  {
   "cell_type": "markdown",
   "metadata": {
    "colab_type": "text",
    "id": "QB5EFrBnpNnc"
   },
   "source": [
    "---\n",
    "\n",
    "Problem\n",
    "-------\n",
    "\n",
    "An alternative to Word2Vec is called [CBOW](http://arxiv.org/abs/1301.3781) (Continuous Bag of Words). In the CBOW model, instead of predicting a context word from a word vector, you predict a word from the sum of all the word vectors in its context. Implement and evaluate a CBOW model trained on the text8 dataset.\n",
    "\n",
    "---"
   ]
  }
 ],
 "metadata": {
  "colab": {
   "default_view": {},
   "name": "5_word2vec.ipynb",
   "provenance": [],
   "version": "0.3.2",
   "views": {}
  },
  "kernelspec": {
   "display_name": "Python 2",
   "language": "python",
   "name": "python2"
  },
  "language_info": {
   "codemirror_mode": {
    "name": "ipython",
    "version": 2
   },
   "file_extension": ".py",
   "mimetype": "text/x-python",
   "name": "python",
   "nbconvert_exporter": "python",
   "pygments_lexer": "ipython2",
   "version": "2.7.11"
  }
 },
 "nbformat": 4,
 "nbformat_minor": 0
}
